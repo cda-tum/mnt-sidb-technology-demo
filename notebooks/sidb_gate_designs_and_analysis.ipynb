{
 "cells": [
  {
   "cell_type": "markdown",
   "id": "d198d59a-b180-403e-8cde-2e4b8d791bc1",
   "metadata": {},
   "source": [
    "This project introduces SiDB gates that were designed using\n",
    "the [Exhaustive Gate Designer](https://www.cda.cit.tum.de/files/eda/2023_nanoarch_minimal_gate_design.pdf). The SiDB\n",
    "gates have been optimized with several figures of merit in mind, including [Operational Domain](https://www.cda.cit.tum.de/files/eda/2023_nanoarch_reducing_the_complexity_of_operational_domain_computation_in_silicon_dangling_bond_logic.pdf), [Band Bending Resilience](https://www.cda.cit.tum.de/files/eda/2024_ieee_nano_figures_of_metrit.pdf), and [Critical Temperature](https://www.cda.cit.tum.de/files/eda/2023_ieeenano_temperature_behavior.pdf).\n",
    "The following gates are designed and analyzed:\n",
    "\n",
    "``NOTE: For better visualization, change the notebook theme in settings from light to dark.``\n",
    "\n",
    "Comprehensive documentation on how to use all functions is available [here](https://fiction.readthedocs.io/en/latest/algorithms/sidb_simulation.html)\n"
   ]
  },
  {
   "cell_type": "markdown",
   "id": "ec93902f-d8f8-448b-9b3a-5e89cafa4843",
   "metadata": {},
   "source": [
    "# Overview\n",
    "+ [AND GATE](#and) \n",
    "\n",
    "   - [Electrostatic Ground State Simulation](#and_simulation)\n",
    "   \n",
    "       - [Charge Distribution for Input 00](#and_simulation_00)\n",
    "\n",
    "       - [Charge Distribution for Input 01](#and_simulation_01)\n",
    "\n",
    "       - [Charge Distribution for Input 10](#and_simulation_10)\n",
    "\n",
    "       - [Charge Distribution for Input 11](#and_simulation_11)\n",
    "    \n",
    "    - [Operational Domain](#and_operational_domain)\n",
    "      \n",
    "        - [Operational Domain $(\\lambda_{\\mathit{tf}}, \\mu_{-})$ for fixed $\\epsilon_{r} = 5.6$](#and_operational_domain_fixed_epsilon)\n",
    "     \n",
    "        - [Operational Domain $(\\epsilon_{r}, \\lambda_{\\mathit{tf}})$ for fixed $\\mu_{-} = -0.25\\,eV$](#and_operational_domain_fixed_mu)\n",
    "     \n",
    "    - [Critical Temperature](#and_critical_temperature)\n",
    "      \n",
    "     \n",
    "2. [WIRE GATE](#wire)\n",
    "       \n",
    "    - [Operational Domain](#wire_operational_domain)\n",
    "      \n",
    "        - [Operational Domain $(\\lambda_{\\mathit{tf}}, \\mu_{-})$ for fixed $\\epsilon_{r} = 5.6$](#wire_operational_domain_fixed_epsilon)\n",
    "     \n",
    "        - [Operational Domain $(\\epsilon_{r}, \\lambda_{\\mathit{tf}})$ for fixed $\\mu_{-} = -0.25\\,eV$](#wire_operational_domain_fixed_mu)\n",
    "     \n",
    "    - [Critical Temperature](#wire_critical_temperature)\n",
    "      \n",
    "  \n",
    "3. [OR GATE](#or)\n",
    "       \n",
    "    - [Operational Domain](#or_operational_domain)\n",
    "      \n",
    "        - [Operational Domain $(\\lambda_{\\mathit{tf}}, \\mu_{-})$ for fixed $\\epsilon_{r} = 5.6$](#or_operational_domain_fixed_epsilon)\n",
    "     \n",
    "        - [Operational Domain $(\\epsilon_{r}, \\lambda_{\\mathit{tf}})$ for fixed $\\mu_{-} = -0.25\\,eV$](#or_operational_domain_fixed_mu)\n",
    "     \n",
    "    - [Critical Temperature](#or_critical_temperature)\n",
    "    \n",
    "  \n",
    "4. [Fan Out GATE](#fan_out)\n",
    "       \n",
    "    - [Operational Domain](#fan_out_operational_domain)\n",
    "      \n",
    "        - [Operational Domain $(\\lambda_{\\mathit{tf}}, \\mu_{-})$ for fixed $\\epsilon_{r} = 5.6$](#fan_out_operational_domain_fixed_epsilon)\n",
    "     \n",
    "        - [Operational Domain $(\\epsilon_{r}, \\lambda_{\\mathit{tf}})$ for fixed $\\mu_{-} = -0.25\\,eV$](#fan_out_operational_domain_fixed_mu)\n",
    "     \n",
    "    - [Critical Temperature](#fan_out_critical_temperature)\n",
    "\n",
    "5. [Exhaustive Gate Design](#exhaustive_design)\n",
    "       \n",
    "    - [Designing all AND gate implementations](#all_and_gates)\n",
    "     \n",
    "    - [Operational Domain for 5 different gate implementations](#op_domain_for_different_implementations)"
   ]
  },
  {
   "cell_type": "markdown",
   "id": "1d9c3e7b-4ea7-42e8-81ed-103c9ed79b22",
   "metadata": {},
   "source": [
    "#### Install and import ``mnt.pyfiction`` to use all the simulation algorithms we have implemented over the last year."
   ]
  },
  {
   "cell_type": "code",
   "execution_count": null,
   "id": "1220633f-0900-48eb-8393-cbb1b4f082e7",
   "metadata": {},
   "outputs": [],
   "source": [
    "pip install mnt.pyfiction"
   ]
  },
  {
   "cell_type": "code",
   "execution_count": null,
   "id": "6aa9f224-788f-49da-abb4-92b6902120cf",
   "metadata": {},
   "outputs": [],
   "source": [
    "pip install --upgrade mnt.pyfiction"
   ]
  },
  {
   "cell_type": "markdown",
   "id": "58dda5ce-a84d-4d98-a013-81cd61469430",
   "metadata": {},
   "source": [
    "#### Install multiple required packages"
   ]
  },
  {
   "cell_type": "code",
   "execution_count": null,
   "id": "f1dec5e8-9153-43c6-bc0c-6cbacd3a3547",
   "metadata": {
    "scrolled": true
   },
   "outputs": [],
   "source": [
    "pip install pandas numpy matplotlib ipywidgets IPython"
   ]
  },
  {
   "cell_type": "code",
   "execution_count": null,
   "id": "b408cf7b-934a-42b3-a853-732bac538f1f",
   "metadata": {},
   "outputs": [],
   "source": [
    "from mnt.pyfiction import *\n",
    "import pandas as pd\n",
    "import matplotlib.pyplot as plt\n",
    "import ipywidgets as widgets\n",
    "import random\n",
    "from IPython.display import display"
   ]
  },
  {
   "attachments": {},
   "cell_type": "markdown",
   "id": "2ea007f3-6c03-40c0-a524-c844652698bd",
   "metadata": {},
   "source": [
    "![logo-nanotech-toolkit-white-high.png](https://github.com/cda-tum/fiction/raw/main/docs/_static/mnt_dark.svg)"
   ]
  },
  {
   "cell_type": "markdown",
   "id": "10618c20-1c26-4ede-a605-29e48c7860ea",
   "metadata": {},
   "source": [
    "<a id='and'></a>\n",
    "# ``1. AND Gate``"
   ]
  },
  {
   "cell_type": "code",
   "execution_count": null,
   "id": "fffdb4d9-a879-47cf-8a84-8401fa6348d7",
   "metadata": {},
   "outputs": [],
   "source": [
    "# we also provide a function to read in sqd-files\n",
    "and_gate = read_sqd_layout_100('../sidb_gates/sqd/and_v0.sqd')\n",
    "print(and_gate)"
   ]
  },
  {
   "cell_type": "markdown",
   "id": "9bd6553d-5924-44e4-b08e-4704f83faf7a",
   "metadata": {},
   "source": [
    "<a id='and_simulation'></a>\n",
    "## 1.1 Electrostatic Ground State Simulation"
   ]
  },
  {
   "cell_type": "markdown",
   "id": "e2330315-7fa4-482d-8f94-fe08a88310a2",
   "metadata": {},
   "source": [
    "We simulate the electrostatic ground state with [__QuickExact__](https://www.cda.cit.tum.de/files/eda/2024_aspdac_efficient_exact_simulation.pdf) and use the following physical parameters:"
   ]
  },
  {
   "cell_type": "code",
   "execution_count": null,
   "id": "af700aff-f7e2-4347-83c6-7ec866b1cf86",
   "metadata": {},
   "outputs": [],
   "source": [
    "physical_parameters = sidb_simulation_parameters()\n",
    "physical_parameters.base = 2;\n",
    "physical_parameters.epsilon_r = 5.6\n",
    "physical_parameters.lambda_tf = 5.0 # (nm)\n",
    "physical_parameters.mu_minus = -0.25 # (eV) (energy threshold to change the charge state of a negatively charged SiDB to a neutrally charged SiDB)\n",
    "quickexact_parameter = quickexact_params()\n",
    "quickexact_parameter.simulation_parameters = physical_parameters"
   ]
  },
  {
   "cell_type": "markdown",
   "id": "5e68d959-0fb1-4e30-891e-0d58f1eeac05",
   "metadata": {},
   "source": [
    "<a id='and_simulation_00'></a>\n",
    "## 1.1 Charge Distribution for Input 00"
   ]
  },
  {
   "cell_type": "code",
   "execution_count": null,
   "id": "d2a47349-1e5a-40aa-be6f-4acf8188b8a0",
   "metadata": {},
   "outputs": [],
   "source": [
    "and_gate.assign_cell_type(offset_coordinate(2,2), sidb_technology.cell_type.EMPTY) # delete one SiDB of the input BDL pair \n",
    "and_gate.assign_cell_type(offset_coordinate(24,2), sidb_technology.cell_type.EMPTY) # delete one SiDB of the input BDL pair \n",
    "result = quickexact(and_gate, quickexact_parameter)\n",
    "print(result.charge_distributions[0]) # print the groundstate ([0])\n",
    "\n",
    "and_gate.assign_cell_type(offset_coordinate(2,2), sidb_technology.cell_type.INPUT) # add SiDB of the input BDL pair again to have the original layout\n",
    "and_gate.assign_cell_type(offset_coordinate(24,2), sidb_technology.cell_type.INPUT) # add SiDB of the input BDL pair again to have the original layout"
   ]
  },
  {
   "cell_type": "markdown",
   "id": "abf1708d-639f-4cfc-9f2e-4b65196448ad",
   "metadata": {},
   "source": [
    "Last BDL pair encodes the correct output 0 as desired for an AND-Gate at input 00!"
   ]
  },
  {
   "cell_type": "markdown",
   "id": "f5a6e96e-2f62-479c-8881-ec0988178c83",
   "metadata": {},
   "source": [
    "<a id='and_simulation_01'></a>\n",
    "## 1.1.1 Charge Distribution for Input 01"
   ]
  },
  {
   "cell_type": "code",
   "execution_count": null,
   "id": "a17a0a0b-190c-41ae-9771-eedb4d1d5064",
   "metadata": {},
   "outputs": [],
   "source": [
    "and_gate.assign_cell_type(offset_coordinate(2,2), sidb_technology.cell_type.EMPTY)\n",
    "and_gate.assign_cell_type(offset_coordinate(26,0), sidb_technology.cell_type.EMPTY)\n",
    "\n",
    "result = quickexact(charge_distribution_surface_100(and_gate), quickexact_parameter)\n",
    "print(result.charge_distributions[0]) # print the groundstate ([0])\n",
    "\n",
    "and_gate.assign_cell_type(offset_coordinate(2,2), sidb_technology.cell_type.INPUT)\n",
    "and_gate.assign_cell_type(offset_coordinate(26,0), sidb_technology.cell_type.INPUT)"
   ]
  },
  {
   "cell_type": "markdown",
   "id": "22af482f-5493-4ef5-af80-bbbc2bc3acd1",
   "metadata": {},
   "source": [
    "Last BDL pair encodes the correct output 0 as desired for an AND-Gate at input 01!"
   ]
  },
  {
   "cell_type": "markdown",
   "id": "2a71d08a-3261-4b88-a4b8-7010995238a6",
   "metadata": {},
   "source": [
    "<a id='and_simulation_10'></a>\n",
    "## 1.1.2. Charge Distribution for Input 10"
   ]
  },
  {
   "cell_type": "code",
   "execution_count": null,
   "id": "ba8553d4-ebe2-4ad7-a1b0-4edcc6552892",
   "metadata": {},
   "outputs": [],
   "source": [
    "and_gate.assign_cell_type(offset_coordinate(0,0), sidb_technology.cell_type.EMPTY)\n",
    "and_gate.assign_cell_type(offset_coordinate(24,2), sidb_technology.cell_type.EMPTY)\n",
    "\n",
    "result = quickexact(charge_distribution_surface_100(and_gate), quickexact_parameter)\n",
    "print(result.charge_distributions[0]) # print the groundstate ([0])\n",
    "\n",
    "and_gate.assign_cell_type(offset_coordinate(0,0), sidb_technology.cell_type.INPUT)\n",
    "and_gate.assign_cell_type(offset_coordinate(24,2), sidb_technology.cell_type.INPUT)"
   ]
  },
  {
   "cell_type": "markdown",
   "id": "40c8cfc5-5665-453c-b73c-46ca4742eeb7",
   "metadata": {},
   "source": [
    "Last BDL pair encodes the correct output 0 as desired for an AND-Gate at input 10!"
   ]
  },
  {
   "cell_type": "markdown",
   "id": "5c2d9404-6968-4f4c-91f5-23d13f2e43b5",
   "metadata": {},
   "source": [
    "<a id='and_simulation_11'></a>\n",
    "## 1.1.3 Charge Distribution for Input 11"
   ]
  },
  {
   "cell_type": "code",
   "execution_count": null,
   "id": "702d52eb-a323-4339-8782-a8560335878d",
   "metadata": {},
   "outputs": [],
   "source": [
    "and_gate.assign_cell_type(offset_coordinate(0,0), sidb_technology.cell_type.EMPTY)\n",
    "and_gate.assign_cell_type(offset_coordinate(26,0), sidb_technology.cell_type.EMPTY)\n",
    "\n",
    "result = quickexact(charge_distribution_surface_100(and_gate), quickexact_parameter)\n",
    "print(result.charge_distributions[0]) # print the groundstate ([0])\n",
    "\n",
    "and_gate.assign_cell_type(offset_coordinate(0,0), sidb_technology.cell_type.INPUT)\n",
    "and_gate.assign_cell_type(offset_coordinate(26,0), sidb_technology.cell_type.INPUT)"
   ]
  },
  {
   "cell_type": "markdown",
   "id": "bc4c6ff3-fc13-44ca-b4df-0efd9b54b2de",
   "metadata": {},
   "source": [
    "Last BDL pair encodes the correct output 0 as desired for an AND-Gate at input 11. Thus, the SiDB layout fulfills the AND logic for all possible input combinations."
   ]
  },
  {
   "cell_type": "markdown",
   "id": "c4c3bbc2-74c9-416f-821a-9497a2ae1c9c",
   "metadata": {},
   "source": [
    "The next step is to analyze the [Operational Domain](https://www.cda.cit.tum.de/files/eda/2023_nanoarch_reducing_the_complexity_of_operational_domain_computation_in_silicon_dangling_bond_logic.pdf) and the [Critical Temperature](https://www.cda.cit.tum.de/files/eda/2023_ieeenano_temperature_behavior.pdf). These two metrics serve as a measure of how stable the gate is to disturbances."
   ]
  },
  {
   "cell_type": "markdown",
   "id": "a6552702-c207-4173-9ddb-631a923f3e24",
   "metadata": {},
   "source": [
    "<a id='and_operational_domain'></a>\n",
    "## 1.2. Operational Domain"
   ]
  },
  {
   "cell_type": "markdown",
   "id": "4ad77d35-708c-43d3-97b7-ef9a35950e18",
   "metadata": {},
   "source": [
    "SiDBs are inherently prone to inhomogeneity in physical systems, which have been shown to disturb gate operation.\n",
    "This circumstance is caused by the dependence of the electrostatic interaction on the material-specific parameters $\\mu_{-}$, $\\epsilon_{r}$ and $\\lambda_{\\mathit{tf}}$. Consequently, any changes in these values significantly influence the behavior of a given SiDB gate. \n",
    "\n",
    "The so-called __Operational Domain__ was proposed as a methodology to evaluate the extent of physical parameter variations that an SiDB logic gate is able to tolerate by plotting the logical correctness of that gate's behavior across a predetermined range of physical parameters. Given an SiDB layout $L$ and a Boolean function $f : \\mathbb{B}^n \\rightarrow \\mathbb{B}^m$, the operational domain of $L$ under $f$ in the $(\\lambda_{\\mathit{tf}}, \\mu_{-})$ space is defined as the set of coordinate points $(\\lambda_{\\mathit{tf}}, \\mu_{-})$ for which $L$ implements $f$. To determine whether $L$ implements $f$ at any given coordinate point $(x, y)$, this point can be _sampled_, i.e., by conducting $2^n$ physical simulations---one for each possible input pattern of $L$---with $\\lambda_{\\mathit{tf}} = x, \\mu_{-} = y$."
   ]
  },
  {
   "cell_type": "markdown",
   "id": "3d8a8c00-a69b-4f55-b6ca-51ff219d71d5",
   "metadata": {},
   "source": [
    "Define two functions to plot the operational domain."
   ]
  },
  {
   "cell_type": "code",
   "execution_count": null,
   "id": "3226059d-2dc4-4931-b0e1-5da0c5bd395f",
   "metadata": {},
   "outputs": [],
   "source": [
    "# function to print the simulated operational domain\n",
    "def print_operational_domain_lambda_mu(opdom):\n",
    "    wodp = write_operational_domain_params()\n",
    "    wodp.operational_tag = '1'\n",
    "    wodp.non_operational_tag = '0'\n",
    "    write_operational_domain(opdom, 'operational_domain.csv', wodp)\n",
    "    \n",
    "    # Read data from CSV file\n",
    "    csv_file = \"operational_domain.csv\"\n",
    "    data = pd.read_csv(csv_file)\n",
    "    \n",
    "    # Separate data based on operational status\n",
    "    operational_data = data[data[\"operational status\"] == 1]\n",
    "    non_operational_data = data[data[\"operational status\"] == 0]\n",
    "    \n",
    "    # Extract epsilon_r and lambda_tf values for each group\n",
    "    epsilon_r_operational = operational_data[\"lambda_tf\"]\n",
    "    lambda_tf_operational = operational_data[\"mu_minus\"]\n",
    "    epsilon_r_non_operational = non_operational_data[\"lambda_tf\"]\n",
    "    lambda_tf_non_operational = non_operational_data[\"mu_minus\"]\n",
    "    \n",
    "    # Plot the data with different colors for each group\n",
    "    plt.figure(figsize=(6, 6))\n",
    "    plt.plot(epsilon_r_non_operational, lambda_tf_non_operational, \"s\", markersize=2, color=\"lightgray\", label=\"non-operational\")\n",
    "    plt.plot(epsilon_r_operational, lambda_tf_operational, \"s\", markersize=2, color=\"purple\", label=\"operational\")\n",
    "    plt.xlabel(r'$\\lambda_{tf}$ [nm]', fontsize=18)\n",
    "    plt.ylabel(r'$\\mu_{-}$ [eV]', fontsize=18)\n",
    "    plt.grid(False)\n",
    "    # set the tick font size\n",
    "    plt.tick_params(labelsize=15)\n",
    "    plt.legend(fontsize=12)\n",
    "    # Adjust subplot parameters\n",
    "    plt.show()\n",
    "\n",
    "# function to print the simulated operational domain\n",
    "def print_operational_domain_epsilon_lambda(opdom):\n",
    "    wodp = write_operational_domain_params()\n",
    "    wodp.operational_tag = '1'\n",
    "    wodp.non_operational_tag = '0'\n",
    "    write_operational_domain(opdom, 'operational_domain.csv', wodp)\n",
    "    \n",
    "    # Read data from CSV file\n",
    "    csv_file = \"operational_domain.csv\"\n",
    "    data = pd.read_csv(csv_file)\n",
    "    \n",
    "    # Separate data based on operational status\n",
    "    operational_data = data[data[\"operational status\"] == 1]\n",
    "    non_operational_data = data[data[\"operational status\"] == 0]\n",
    "    \n",
    "    # Extract epsilon_r and lambda_tf values for each group\n",
    "    epsilon_r_operational = operational_data[\"epsilon_r\"]\n",
    "    lambda_tf_operational = operational_data[\"lambda_tf\"]\n",
    "    epsilon_r_non_operational = non_operational_data[\"epsilon_r\"]\n",
    "    lambda_tf_non_operational = non_operational_data[\"lambda_tf\"]\n",
    "    \n",
    "    # Plot the data with different colors for each group\n",
    "    plt.figure(figsize=(6, 6))\n",
    "    plt.plot(epsilon_r_non_operational, lambda_tf_non_operational, \"s\", markersize=2, color=\"lightgray\", label=\"non-operational\")\n",
    "    plt.plot(epsilon_r_operational, lambda_tf_operational, \"s\", markersize=2, color=\"purple\", label=\"operational\")\n",
    "    plt.xlabel(r'$\\epsilon_r$', fontsize=18)\n",
    "    plt.ylabel(r'$\\lambda_{tf}$ [nm]', fontsize=18)\n",
    "    plt.grid(False)\n",
    "    # set the tick font size\n",
    "    plt.tick_params(labelsize=15)\n",
    "    plt.legend(fontsize=12)\n",
    "    \n",
    "    plt.show()"
   ]
  },
  {
   "cell_type": "markdown",
   "id": "60144535-1da5-434d-a5f3-6b41ffb68fe2",
   "metadata": {},
   "source": [
    "<a id='and_operational_domain_fixed_epsilon'></a>\n",
    "#### 1.2.1. Operational Domain $(\\lambda_{\\mathit{tf}}, \\mu_{-})$ for fixed $\\epsilon_{r} = 5.6$"
   ]
  },
  {
   "cell_type": "code",
   "execution_count": null,
   "id": "6d5658b6-b0d6-4298-84bb-2d1ca06a243b",
   "metadata": {},
   "outputs": [],
   "source": [
    "opdom_params_lambda_mu = operational_domain_params()\n",
    "opdom_params_lambda_mu.simulation_parameters = physical_parameters\n",
    "opdom_params_lambda_mu.x_dimension = sweep_parameter.LAMBDA_TF\n",
    "opdom_params_lambda_mu.y_dimension = sweep_parameter.MU_MINUS \n",
    "opdom_params_lambda_mu.x_min = 1\n",
    "opdom_params_lambda_mu.x_max = 10\n",
    "opdom_params_lambda_mu.x_step = 0.01\n",
    "opdom_params_lambda_mu.y_min = -0.4\n",
    "opdom_params_lambda_mu.y_max = -0.1\n",
    "opdom_params_lambda_mu.y_step = 0.001\n",
    "\n",
    "opdom = operational_domain_flood_fill(charge_distribution_surface_100(and_gate), [create_and_tt()], 1000, opdom_params_lambda_mu)\n",
    "print_operational_domain_lambda_mu(opdom)"
   ]
  },
  {
   "cell_type": "markdown",
   "id": "ec1e2877-22ea-4b5f-8e83-64dbd9135567",
   "metadata": {},
   "source": [
    "<a id='and_operational_domain_fixed_mu'></a>\n",
    "#### 1.2.2. Operational Domain $(\\epsilon_{r}, \\lambda_{\\mathit{tf}})$ for fixed $\\mu_{-} = -0.25$ eV"
   ]
  },
  {
   "cell_type": "code",
   "execution_count": null,
   "id": "6aaa3d7e-ddd4-4062-aefe-afc93bbff6ca",
   "metadata": {},
   "outputs": [],
   "source": [
    "opdom_params_epsilon_lambda = operational_domain_params()\n",
    "opdom_params_epsilon_lambda.simulation_parameters = physical_parameters\n",
    "opdom_params_epsilon_lambda.x_dimension = sweep_parameter.EPSILON_R\n",
    "opdom_params_epsilon_lambda.y_dimension = sweep_parameter.LAMBDA_TF \n",
    "opdom_params_epsilon_lambda.x_min = 1\n",
    "opdom_params_epsilon_lambda.x_max = 10\n",
    "opdom_params_epsilon_lambda.x_step = 0.01\n",
    "opdom_params_epsilon_lambda.y_min = 1\n",
    "opdom_params_epsilon_lambda.y_max = 10\n",
    "opdom_params_epsilon_lambda.y_step = 0.01\n",
    "\n",
    "opdom = operational_domain_flood_fill(charge_distribution_surface_100(and_gate), [create_and_tt()], 1000, opdom_params_epsilon_lambda)\n",
    "print_operational_domain_epsilon_lambda(opdom)"
   ]
  },
  {
   "cell_type": "markdown",
   "id": "fe83b133-e870-407f-8a6d-10f94a4a6ed8",
   "metadata": {},
   "source": [
    "<a id='and_critical_temperature'></a>\n",
    "## 1.3. Critical Temperature"
   ]
  },
  {
   "cell_type": "code",
   "execution_count": null,
   "id": "73701e3f-a813-4816-900f-cbe8c59ea800",
   "metadata": {},
   "outputs": [],
   "source": [
    "ct_params = critical_temperature_params()\n",
    "ct_params.max_temperature = 300\n",
    "ct_stats = critical_temperature_stats()\n",
    "critical_temperature_non_gate_based(charge_distribution_surface_100(and_gate), ct_params, ct_stats)\n",
    "print(\"The Critical Temperature is \\033[1m\" + str(ct_stats.critical_temperature) + \" Kelvin\\033[0m (at higher temperatures, the ground state is occupied with a probability of less than 99 %).\")"
   ]
  },
  {
   "cell_type": "markdown",
   "id": "f1341ea9-7a3f-4e54-b3b8-c124f6830d7b",
   "metadata": {
    "jp-MarkdownHeadingCollapsed": true
   },
   "source": [
    "<a id='wire'></a>\n",
    "# ``2. WIRE Gate``"
   ]
  },
  {
   "cell_type": "code",
   "execution_count": null,
   "id": "5f8f3f32-9c4f-4b9e-b0da-62583c0208df",
   "metadata": {},
   "outputs": [],
   "source": [
    "# we also provide a function to read in sqd-files\n",
    "wire_gate = read_sqd_layout_100('../sidb_gates/sqd/wire_v0.sqd')\n",
    "print(wire_gate)"
   ]
  },
  {
   "cell_type": "markdown",
   "id": "7e0b9a5e-cf40-4645-a30f-1381d3421c0a",
   "metadata": {},
   "source": [
    "<a id='wire_operational_domain'></a>\n",
    "## 2.1. Operational Domain"
   ]
  },
  {
   "cell_type": "markdown",
   "id": "f9977f11-567d-4c96-b28f-f81a7f95c353",
   "metadata": {},
   "source": [
    "<a id='wire_operational_domain_fixed_epsilon'></a>\n",
    "#### 2.1.1. Operational Domain for fixed $\\epsilon_{r} = 5.6$"
   ]
  },
  {
   "cell_type": "code",
   "execution_count": null,
   "id": "391b6b53",
   "metadata": {},
   "outputs": [],
   "source": [
    "opdom_params_lambda_mu = operational_domain_params()\n",
    "opdom_params_lambda_mu.simulation_parameters = physical_parameters\n",
    "opdom_params_lambda_mu.x_dimension = sweep_parameter.LAMBDA_TF\n",
    "opdom_params_lambda_mu.y_dimension = sweep_parameter.MU_MINUS \n",
    "opdom_params_lambda_mu.x_min = 1\n",
    "opdom_params_lambda_mu.x_max = 10\n",
    "opdom_params_lambda_mu.x_step = 0.01\n",
    "opdom_params_lambda_mu.y_min = -0.4\n",
    "opdom_params_lambda_mu.y_max = -0.1\n",
    "opdom_params_lambda_mu.y_step = 0.001\n",
    "\n",
    "opdom = operational_domain_flood_fill(charge_distribution_surface_100(wire_gate), [create_id_tt()], 100, opdom_params_lambda_mu)\n",
    "print_operational_domain_lambda_mu(opdom)"
   ]
  },
  {
   "cell_type": "markdown",
   "id": "37fa125e-13eb-4396-9e20-708ec8a4f62d",
   "metadata": {},
   "source": [
    "<a id='wire_operational_domain_fixed_mu'></a>\n",
    "#### 2.1.2. Operational Domain for fixed $\\mu_{-} = -0.25$ eV"
   ]
  },
  {
   "cell_type": "code",
   "execution_count": null,
   "id": "50b03820-c4b7-4f2b-98e6-bb3c0260bc8a",
   "metadata": {},
   "outputs": [],
   "source": [
    "opdom_params_epsilon_lambda = operational_domain_params()\n",
    "opdom_params_epsilon_lambda.simulation_parameters = physical_parameters\n",
    "opdom_params_epsilon_lambda.x_dimension = sweep_parameter.EPSILON_R\n",
    "opdom_params_epsilon_lambda.y_dimension = sweep_parameter.LAMBDA_TF \n",
    "opdom_params_epsilon_lambda.x_min = 1\n",
    "opdom_params_epsilon_lambda.x_max = 10\n",
    "opdom_params_epsilon_lambda.x_step = 0.01\n",
    "opdom_params_epsilon_lambda.y_min = 1\n",
    "opdom_params_epsilon_lambda.y_max = 10\n",
    "opdom_params_epsilon_lambda.y_step = 0.01\n",
    "\n",
    "opdom = operational_domain_flood_fill(charge_distribution_surface_100(wire_gate), [create_id_tt()], 1000, opdom_params_epsilon_lambda)\n",
    "print_operational_domain_epsilon_lambda(opdom)"
   ]
  },
  {
   "cell_type": "markdown",
   "id": "2a3d8180-c5af-4709-9cd7-df0d92fcc744",
   "metadata": {},
   "source": [
    "<a id='wire_critical_temperature'></a>\n",
    "## 2.2. Critical Temperature"
   ]
  },
  {
   "cell_type": "code",
   "execution_count": null,
   "id": "97b19129-d3df-41d0-bf57-5d637fa9d076",
   "metadata": {},
   "outputs": [],
   "source": [
    "ct_params = critical_temperature_params()\n",
    "ct_params.max_temperature = 300\n",
    "ct_stats = critical_temperature_stats()\n",
    "critical_temperature_non_gate_based(charge_distribution_surface_100(wire_gate), ct_params, ct_stats)\n",
    "print(\"The Critical Temperature is \\033[1m\" + str(ct_stats.critical_temperature) + \" Kelvin\\033[0m (at higher temperatures, the ground state is occupied with a probability of less than 99 %).\")"
   ]
  },
  {
   "cell_type": "markdown",
   "id": "19d84c71-0cec-44f5-9dcf-29d0bd08108e",
   "metadata": {
    "jp-MarkdownHeadingCollapsed": true
   },
   "source": [
    "<a id='or'></a>\n",
    "# ``3. OR Gate``"
   ]
  },
  {
   "cell_type": "code",
   "execution_count": null,
   "id": "34e8fc38-54a1-46d6-bb6c-df78bfe33677",
   "metadata": {},
   "outputs": [],
   "source": [
    "# we also provide a function to read in sqd-files\n",
    "or_gate = read_sqd_layout_100('../sidb_gates/sqd/or_v0.sqd')\n",
    "print(or_gate)"
   ]
  },
  {
   "cell_type": "markdown",
   "id": "72cc74b8-75b1-49ea-9373-810a3d2e9560",
   "metadata": {},
   "source": [
    "<a id='or_operational_domain'></a>\n",
    "## 3.1. Operational Domain"
   ]
  },
  {
   "cell_type": "markdown",
   "id": "d38aec4a-70c8-4727-9230-98bb4a206093",
   "metadata": {},
   "source": [
    "<a id='or_operational_domain_fixed_epsilon'></a>\n",
    "#### 3.1.1. Operational Domain for fixed $\\epsilon_{r} = 5.6$"
   ]
  },
  {
   "cell_type": "code",
   "execution_count": null,
   "id": "7da42956-4cee-4aae-b089-e92aa2612f5b",
   "metadata": {},
   "outputs": [],
   "source": [
    "opdom = operational_domain_flood_fill(charge_distribution_surface_100(or_gate), [create_or_tt()], 100, opdom_params_lambda_mu)\n",
    "print_operational_domain_lambda_mu(opdom)"
   ]
  },
  {
   "cell_type": "markdown",
   "id": "f201259f-dcc8-4a87-a5cd-ccec4679344b",
   "metadata": {},
   "source": [
    "<a id='or_operational_domain_fixed_mu'></a>\n",
    "#### 3.1.2. Operational Domain for fixed $\\mu_{-} = -0.25$ eV"
   ]
  },
  {
   "cell_type": "code",
   "execution_count": null,
   "id": "eb0562ef-1b51-4719-8fce-4b59dc596620",
   "metadata": {},
   "outputs": [],
   "source": [
    "opdom = operational_domain_flood_fill(charge_distribution_surface_100(or_gate), [create_or_tt()], 1000, opdom_params_epsilon_lambda)\n",
    "print_operational_domain_epsilon_lambda(opdom)"
   ]
  },
  {
   "cell_type": "markdown",
   "id": "5b783a4c-a7f8-492c-9636-10dfd1ec881f",
   "metadata": {},
   "source": [
    "<a id='or_critical_temperature'></a>\n",
    "## 3.2. Critical Temperature"
   ]
  },
  {
   "cell_type": "code",
   "execution_count": null,
   "id": "3d9f9f98-feb2-4e6c-a37f-edbb450a12a1",
   "metadata": {
    "scrolled": true
   },
   "outputs": [],
   "source": [
    "ct_params = critical_temperature_params()\n",
    "ct_params.max_temperature = 300\n",
    "ct_stats = critical_temperature_stats()\n",
    "critical_temperature_non_gate_based(charge_distribution_surface_100(or_gate), ct_params, ct_stats)\n",
    "print(\"The Critical Temperature is \\033[1m\" + str(ct_stats.critical_temperature) + \" Kelvin\\033[0m (at higher temperatures, the ground state is occupied with a probability of less than 99 %).\")"
   ]
  },
  {
   "cell_type": "markdown",
   "id": "0b70006f-151a-4878-938a-6cb43bb275a0",
   "metadata": {
    "jp-MarkdownHeadingCollapsed": true
   },
   "source": [
    "<a id='fan_out'></a>\n",
    "# ``4. Fan-Out Gate``"
   ]
  },
  {
   "cell_type": "code",
   "execution_count": null,
   "id": "b0b1f858-e7ef-4035-80d9-ce16a98e92b6",
   "metadata": {},
   "outputs": [],
   "source": [
    "# we also provide a function to read in sqd-files\n",
    "fan_out_gate = read_sqd_layout_100('../sidb_gates/sqd/fan_out_v0.sqd')\n",
    "print(fan_out_gate)"
   ]
  },
  {
   "cell_type": "markdown",
   "id": "dab31b65-4ae5-45a9-8d1c-ef48ca036733",
   "metadata": {},
   "source": [
    "<a id='fan_out_operational_domain'></a>\n",
    "## 4.1. Operational Domain"
   ]
  },
  {
   "cell_type": "markdown",
   "id": "ec7eec80-9fbb-43a7-a8f0-bf59dc76b13f",
   "metadata": {},
   "source": [
    "<a id='fan_out_operational_domain_fixed_epsilon'></a>\n",
    "#### 4.1.1. Operational Domain for fixed $\\epsilon_{r} = 5.6$"
   ]
  },
  {
   "cell_type": "code",
   "execution_count": null,
   "id": "2be16dcd",
   "metadata": {},
   "outputs": [],
   "source": [
    "opdom = operational_domain_flood_fill(charge_distribution_surface_100(fan_out_gate), create_fan_out_tt(), 1000, opdom_params_lambda_mu)\n",
    "print_operational_domain_lambda_mu(opdom)"
   ]
  },
  {
   "cell_type": "markdown",
   "id": "a8895381-ca96-4d09-b225-48e5605211fe",
   "metadata": {},
   "source": [
    "<a id='fan_out_operational_domain_fixed_mu'></a>\n",
    "#### 4.1.2. Operational Domain for fixed $\\mu_{-} = -0.25$ eV"
   ]
  },
  {
   "cell_type": "code",
   "execution_count": null,
   "id": "366d79d3-c1a8-4c6b-8636-19a5f857114c",
   "metadata": {},
   "outputs": [],
   "source": [
    "opdom = operational_domain_flood_fill(charge_distribution_surface_100(fan_out_gate), create_fan_out_tt(), 1000, opdom_params_epsilon_lambda)\n",
    "print_operational_domain_epsilon_lambda(opdom)"
   ]
  },
  {
   "cell_type": "markdown",
   "id": "8f1942d2-fc52-4b20-800c-e61e3eb274ce",
   "metadata": {},
   "source": [
    "<a id='fan_out_critical_temperature'></a>\n",
    "## 4.2. Critical Temperature"
   ]
  },
  {
   "cell_type": "code",
   "execution_count": null,
   "id": "daa23181-29d7-48d0-9bab-65b3f3350389",
   "metadata": {},
   "outputs": [],
   "source": [
    "ct_params = critical_temperature_params()\n",
    "ct_params.max_temperature = 300\n",
    "ct_stats = critical_temperature_stats()\n",
    "critical_temperature_non_gate_based(charge_distribution_surface_100(fan_out_gate), ct_params, ct_stats)\n",
    "print(\"The Critical Temperature is \\033[1m\" + str(ct_stats.critical_temperature) + \" Kelvin\\033[0m (at higher temperatures, the ground state is occupied with a probability of less than 99 %).\")"
   ]
  },
  {
   "cell_type": "code",
   "execution_count": null,
   "id": "dbcc2056-c3db-4160-aa05-a9e4fd400eb5",
   "metadata": {},
   "outputs": [],
   "source": []
  },
  {
   "cell_type": "markdown",
   "id": "20a73469-594f-416e-b523-97131867ed3f",
   "metadata": {},
   "source": [
    "<a id='exhaustive_design'></a>\n",
    "# ``5. Exhaustive Gate Design``"
   ]
  },
  {
   "cell_type": "markdown",
   "id": "3a80c366-65ef-401b-aca0-cd33282b2607",
   "metadata": {},
   "source": [
    "First, we define the skeleton:"
   ]
  },
  {
   "cell_type": "code",
   "execution_count": null,
   "id": "5fe84f63-a576-45c9-b193-32dddfe091c9",
   "metadata": {},
   "outputs": [],
   "source": [
    "# we also provide a function to read in sqd-files\n",
    "skeleton = read_sqd_layout_100('../skeleton_bestagons_with_tags/skeleton_hex_inputsdbp_2i1o.sqd')\n",
    "print(skeleton)"
   ]
  },
  {
   "cell_type": "markdown",
   "id": "dcd1dc36-1c8e-431c-aacb-3c7f35bc6b4a",
   "metadata": {},
   "source": [
    "We design all AND gates for the specified parameters with the [__Automatic Exhaustive Gate Designer__](https://www.cda.cit.tum.de/files/eda/2023_nanoarch_minimal_gate_design.pdf):"
   ]
  },
  {
   "cell_type": "code",
   "execution_count": null,
   "id": "710f127c-3f92-4577-ad7a-56614bb830e5",
   "metadata": {},
   "outputs": [],
   "source": [
    "params = design_sidb_gates_params()\n",
    "params.simulation_parameters.base = 2\n",
    "params.simulation_parameters.mu_minus = -0.32\n",
    "params.design_mode = design_sidb_gates_mode.EXHAUSTIVE \n",
    "params.canvas = [(17, 13), (21, 24)]\n",
    "params.number_of_sidbs = 3\n",
    "params.sim_engine = sidb_simulation_engine.QUICKEXACT"
   ]
  },
  {
   "cell_type": "markdown",
   "id": "33521832-272d-47ff-afa0-ebc072afd1c5",
   "metadata": {},
   "source": [
    "<a id='all_and_gates'></a>\n",
    "#### 5.1. Designing all AND gates"
   ]
  },
  {
   "cell_type": "code",
   "execution_count": null,
   "id": "1fa34a41-56c0-4f13-ac0a-b5011e18e792",
   "metadata": {},
   "outputs": [],
   "source": [
    "designed_gates = design_sidb_gates(skeleton, [create_and_tt()], params)"
   ]
  },
  {
   "cell_type": "code",
   "execution_count": null,
   "id": "754ae5ad-e680-493d-82fb-4ef79fe33215",
   "metadata": {},
   "outputs": [],
   "source": [
    "print(str(len(designed_gates)) + \" AND gates are designed.\")"
   ]
  },
  {
   "cell_type": "markdown",
   "id": "39aa0a84-0837-4102-a9eb-c465f5a4a686",
   "metadata": {},
   "source": [
    "In the next step, we want to analyze the Operational Domain for 10 different Gate implementations."
   ]
  },
  {
   "cell_type": "markdown",
   "id": "5dbf3fb2-9d1b-439f-b8e0-9e350c473f81",
   "metadata": {},
   "source": [
    "Defining the Oeprational Domain parameters:"
   ]
  },
  {
   "cell_type": "code",
   "execution_count": null,
   "id": "4e91bee4-7530-4941-97bf-8606268943e3",
   "metadata": {},
   "outputs": [],
   "source": [
    "opdom_params_epsilon_lambda = operational_domain_params()\n",
    "opdom_params_epsilon_lambda.simulation_parameters = physical_parameters\n",
    "opdom_params_epsilon_lambda.x_dimension = sweep_parameter.EPSILON_R\n",
    "opdom_params_epsilon_lambda.y_dimension = sweep_parameter.LAMBDA_TF \n",
    "opdom_params_epsilon_lambda.x_min = 1\n",
    "opdom_params_epsilon_lambda.x_max = 10\n",
    "opdom_params_epsilon_lambda.x_step = 0.1\n",
    "opdom_params_epsilon_lambda.y_min = 1\n",
    "opdom_params_epsilon_lambda.y_max = 10\n",
    "opdom_params_epsilon_lambda.y_step = 0.1"
   ]
  },
  {
   "cell_type": "markdown",
   "id": "200acfd0-270c-43f0-917c-cdafe9156a8e",
   "metadata": {},
   "source": [
    "<a id='op_domain_for_different_implementations'></a>\n",
    "#### 5.2. Operational Domain for 5 different gate implementations"
   ]
  },
  {
   "cell_type": "code",
   "execution_count": null,
   "id": "9ea8a68c-6ba3-4992-8560-fd7791ceae6f",
   "metadata": {},
   "outputs": [],
   "source": [
    "random.shuffle(designed_gates)\n",
    "for gate in designed_gates[:5]:\n",
    "    opdom = operational_domain_flood_fill(charge_distribution_surface_100(gate), [create_and_tt()], 500, opdom_params_epsilon_lambda)\n",
    "    print_operational_domain_epsilon_lambda(opdom)"
   ]
  }
 ],
 "metadata": {
  "kernelspec": {
   "display_name": "Python 3 (ipykernel)",
   "language": "python",
   "name": "python3"
  },
  "language_info": {
   "codemirror_mode": {
    "name": "ipython",
    "version": 3
   },
   "file_extension": ".py",
   "mimetype": "text/x-python",
   "name": "python",
   "nbconvert_exporter": "python",
   "pygments_lexer": "ipython3",
   "version": "3.9.18"
  }
 },
 "nbformat": 4,
 "nbformat_minor": 5
}
